{
  "nbformat": 4,
  "nbformat_minor": 0,
  "metadata": {
    "accelerator": "GPU",
    "colab": {
      "name": "Facelift.ipynb",
      "provenance": [],
      "collapsed_sections": [],
      "include_colab_link": true
    },
    "kernelspec": {
      "display_name": "Python 3",
      "name": "python3"
    }
  },
  "cells": [
    {
      "cell_type": "markdown",
      "metadata": {
        "id": "view-in-github",
        "colab_type": "text"
      },
      "source": [
        "<a href=\"https://colab.research.google.com/github/rwante/Facelift/blob/main/Facelift.ipynb\" target=\"_parent\"><img src=\"https://colab.research.google.com/assets/colab-badge.svg\" alt=\"Open In Colab\"/></a>"
      ]
    },
    {
      "cell_type": "code",
      "metadata": {
        "colab": {
          "base_uri": "https://localhost:8080/"
        },
        "id": "M3SDRDG5PoS5",
        "outputId": "51625488-eeba-4f3a-ac4f-d739e3f2b9ec"
      },
      "source": [
        "from google.colab import drive\n",
        "drive.mount('/content/drive')"
      ],
      "execution_count": null,
      "outputs": [
        {
          "output_type": "stream",
          "text": [
            "Mounted at /content/drive\n"
          ],
          "name": "stdout"
        }
      ]
    },
    {
      "cell_type": "code",
      "metadata": {
        "id": "Vcs6MBAMaTqY"
      },
      "source": [
        "!unzip \"/content/drive/My Drive/Veriseti3.zip\" -d \"/content/\""
      ],
      "execution_count": null,
      "outputs": []
    },
    {
      "cell_type": "code",
      "metadata": {
        "id": "OXzDIdqlELHZ"
      },
      "source": [
        "import os\n",
        "import cv2\n",
        "import numpy as np\n",
        "from sklearn.preprocessing import LabelEncoder\n",
        "from keras.utils import np_utils,to_categorical\n",
        "import matplotlib.pyplot as plt\n",
        "from sklearn.utils import shuffle\n",
        "from keras.models import Sequential, Model\n",
        "from keras.layers import Dense, Dropout, Flatten, AvgPool2D\n",
        "from keras.layers.convolutional import Conv2D, MaxPooling2D\n",
        "from keras.layers import BatchNormalization\n",
        "from keras.preprocessing.image import ImageDataGenerator\n",
        "from sklearn.model_selection import train_test_split\n",
        "from keras.applications.resnet50 import ResNet50\n",
        "from keras.applications import DenseNet169, DenseNet201\n",
        "from keras.optimizers import SGD\n",
        "from tensorflow.keras.applications import EfficientNetB0, EfficientNetB1,EfficientNetB2\n",
        "from tensorflow.keras.applications import EfficientNetB3, EfficientNetB4, EfficientNetB5\n",
        "from tensorflow.keras.applications import EfficientNetB6, EfficientNetB7"
      ],
      "execution_count": null,
      "outputs": []
    },
    {
      "cell_type": "code",
      "metadata": {
        "id": "7iNljy1iOrYP"
      },
      "source": [
        "data_dir = \"/content/Veriseti3/\"\n",
        "images = []\n",
        "car_types = []\n",
        "for car_type in [\"Hyundai_Faceliftli\",\"Hyundai_Faceliftsiz\",\"Nissan_Faceliftli\",\"Nissan_Faceliftsiz\",\"Passat_Faceliftli\",\"Passat_Faceliftsiz\"]:\n",
        "    car_dir = data_dir + car_type\n",
        "    car_files = [car_dir + '/' + filename for filename in os.listdir(car_dir)]\n",
        "    for filename in car_files:\n",
        "        if filename.endswith('jpg'):\n",
        "            try:\n",
        "                image = cv2.imread(filename)\n",
        "                images.append(cv2.resize(image, (64, 64), interpolation=cv2.INTER_CUBIC))\n",
        "                car_types.append(car_type)\n",
        "            except Exception as e:\n",
        "                pass\n",
        "images = np.array(images)\n",
        "car_types = np.array(car_types)\n",
        "lbl = LabelEncoder()\n",
        "car_types_encoded = lbl.fit_transform(car_types)\n",
        "data = np.asarray(images, dtype=\"float\")\n",
        "data2= np.asarray(car_types_encoded, dtype=\"float\")\n",
        "np.savez(\"car.npz\",DataX=data)\n",
        "np.savez(\"cartypes.npz\",DataX=data2)"
      ],
      "execution_count": null,
      "outputs": []
    },
    {
      "cell_type": "code",
      "metadata": {
        "id": "ysLBLPlsW-WN"
      },
      "source": [
        "path = \"car.npz\"\n",
        "with np.load(path) as data:\n",
        "    # load DataX as train_data\n",
        "    train_data = data['DataX']\n",
        "data = train_data\n",
        "path = \"cartypes.npz\"\n",
        "with np.load(path) as data2:\n",
        "    # load DataX as train_data\n",
        "    train_label = data2['DataX']\n",
        "label = train_label\n",
        "\n",
        "print(label)\n",
        "print(data)"
      ],
      "execution_count": null,
      "outputs": []
    },
    {
      "cell_type": "code",
      "metadata": {
        "id": "Ka5guqlrXZtm"
      },
      "source": [
        "x_train, x_val, y_train, y_val = train_test_split(data, label, test_size=0.3, random_state=0)\n",
        "x_train = x_train / 255\n",
        "x_val = x_val / 255\n",
        "y_train = to_categorical(y_train)\n",
        "# y_val=to_categorical(y_val)\n",
        "y_val2 = to_categorical(y_val)\n",
        "datagen = ImageDataGenerator(rotation_range=20,\n",
        "\t\thorizontal_flip=True)\n",
        "datagen.fit(x_train)\n",
        "print(x_val.shape)\n",
        "x_train.shape"
      ],
      "execution_count": null,
      "outputs": []
    },
    {
      "cell_type": "code",
      "metadata": {
        "id": "CZd6S6okEOx6"
      },
      "source": [
        "def build_ResNet50(input_tensor_shape):\n",
        "    base_model = DenseNet201(weights='imagenet', include_top=False, input_shape=input_tensor_shape)\n",
        "\n",
        "    x_model = base_model.output\n",
        "\n",
        "    x_model = AvgPool2D(name='globalaveragepooling2d')(x_model)\n",
        "\n",
        "    x_model = Dense(1024, activation='relu', name='fc1_Dense')(x_model)\n",
        "    x_model = Dropout(0.35, name='dropout_1')(x_model)\n",
        "    x_model = Flatten()(x_model)\n",
        "    x_model = Dense(256, activation='relu', name='fc2_Dense')(x_model)\n",
        "    x_model = Dropout(0.35, name='dropout_2')(x_model)\n",
        "\n",
        "    predictions = Dense(6, activation='softmax', name='output_layer')(x_model)\n",
        "\n",
        "    model = Model(inputs=base_model.input, outputs=predictions)\n",
        "\n",
        "    return model\n"
      ],
      "execution_count": null,
      "outputs": []
    },
    {
      "cell_type": "code",
      "metadata": {
        "id": "uA0-ZXNdJy-_"
      },
      "source": [
        "input_tensor_shape = (64, 64, 3)\n",
        "\n",
        "model2 = build_ResNet50(input_tensor_shape)\n",
        "\n",
        "model2.summary()"
      ],
      "execution_count": null,
      "outputs": []
    },
    {
      "cell_type": "code",
      "metadata": {
        "id": "zMJcxI2WJ4qL"
      },
      "source": [
        "from tensorflow.python.keras.callbacks import ReduceLROnPlateau\n",
        "lrr = ReduceLROnPlateau(\n",
        "    monitor='loss',  # Metric to be measured\n",
        "    factor=.1,  # Factor by which learning rate will be reduced\n",
        "    patience=3,\n",
        "    # No. of epochs after which if there is no improvement in the val_acc, the learning rate is reduced\n",
        "    min_lr=1e-5)\n",
        "callbacks_list=[lrr]\n",
        "model2.compile(optimizer=SGD(lr=0.01, momentum=0.9), loss='categorical_crossentropy', metrics=['accuracy'])\n",
        "nb_epoch = 100\n",
        "\n",
        "batch_size = 256\n",
        "fitted_model2 = model2.fit_generator(datagen.flow(x_train, y_train, batch_size=batch_size),\n",
        "                    steps_per_epoch = 38,\n",
        "                    epochs=nb_epoch,\n",
        "                    validation_data = (x_val, y_val2),callbacks=[callbacks_list]\n",
        "                    )\n",
        "from sklearn.metrics import classification_report,confusion_matrix\n",
        "y_pred = model2.predict(x_val)\n",
        "y_pred = y_pred.argmax(axis=-1)\n",
        "print(y_pred)\n",
        "print(y_val)\n",
        "report = classification_report(y_val,y_pred)\n",
        "print(report)\n",
        "print(confusion_matrix(y_val,y_pred))\n",
        "plt.plot(fitted_model2.history['accuracy'])\n",
        "plt.plot(fitted_model2.history['val_accuracy'])\n",
        "plt.title('model accuracy')\n",
        "plt.ylabel('accuracy')\n",
        "plt.xlabel('epoch')\n",
        "plt.legend(['train', 'test'], loc='upper left')\n",
        "\n",
        "plt.show()"
      ],
      "execution_count": null,
      "outputs": []
    },
    {
      "cell_type": "code",
      "metadata": {
        "colab": {
          "base_uri": "https://localhost:8080/",
          "height": 295
        },
        "id": "4_NSaNScMAyo",
        "outputId": "214848b4-84b7-4e3e-e260-ca75c96417d2"
      },
      "source": [
        "plt.figure()\n",
        "plt.gcf().clear()\n",
        "plt.plot(fitted_model2.history['loss'])\n",
        "plt.plot(fitted_model2.history['val_loss'])\n",
        "plt.title('model loss')\n",
        "plt.ylabel('loss')\n",
        "plt.xlabel('epoch')\n",
        "plt.legend(['train', 'test'], loc='upper left')\n",
        "\n",
        "plt.show()"
      ],
      "execution_count": null,
      "outputs": [
        {
          "output_type": "display_data",
          "data": {
            "image/png": "[encoded data removed]",
            "text/plain": [
              "<Figure size 432x288 with 1 Axes>"
            ]
          },
          "metadata": {
            "tags": [],
            "needs_background": "light"
          }
        }
      ]
    }
  ]
}